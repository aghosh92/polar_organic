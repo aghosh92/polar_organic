{
  "nbformat": 4,
  "nbformat_minor": 0,
  "metadata": {
    "colab": {
      "provenance": [],
      "authorship_tag": "ABX9TyNQQ9fOZffEBtnLrUphifwd",
      "include_colab_link": true
    },
    "kernelspec": {
      "name": "python3",
      "display_name": "Python 3"
    },
    "language_info": {
      "name": "python"
    }
  },
  "cells": [
    {
      "cell_type": "markdown",
      "metadata": {
        "id": "view-in-github",
        "colab_type": "text"
      },
      "source": [
        "<a href=\"https://colab.research.google.com/github/aghosh92/polar_organic/blob/main/Notebook_II.ipynb\" target=\"_parent\"><img src=\"https://colab.research.google.com/assets/colab-badge.svg\" alt=\"Open In Colab\"/></a>"
      ]
    },
    {
      "cell_type": "markdown",
      "source": [
        "# This notebook shows an example implementation of imprtance sampling as utilized for organic ferroelectric compounds.\n",
        "[Paper link](https://arxiv.org/abs/2108.13206)\n",
        "\n",
        "\n",
        "\n",
        "\n",
        "### Author: Ayana Ghosh\n",
        "\n",
        "Email: research.aghosh@gmail.com"
      ],
      "metadata": {
        "id": "v4kYmNGFQfj6"
      }
    },
    {
      "cell_type": "markdown",
      "source": [
        "Install packages"
      ],
      "metadata": {
        "id": "xppaUh4Cmcwk"
      }
    },
    {
      "cell_type": "code",
      "execution_count": 1,
      "metadata": {
        "colab": {
          "base_uri": "https://localhost:8080/"
        },
        "id": "qjNBGYKZlmMN",
        "outputId": "dc8e0a40-a329-42d7-995f-fb7317c3f04e"
      },
      "outputs": [
        {
          "output_type": "stream",
          "name": "stdout",
          "text": [
            "Collecting wget\n",
            "  Downloading wget-3.2.zip (10 kB)\n",
            "  Preparing metadata (setup.py) ... \u001b[?25l\u001b[?25hdone\n",
            "Building wheels for collected packages: wget\n",
            "  Building wheel for wget (setup.py) ... \u001b[?25l\u001b[?25hdone\n",
            "  Created wheel for wget: filename=wget-3.2-py3-none-any.whl size=9655 sha256=53d781247dd0da6e85033d5776e3b9c5460b9d60abf4a0094701f4f315ea3372\n",
            "  Stored in directory: /root/.cache/pip/wheels/8b/f1/7f/5c94f0a7a505ca1c81cd1d9208ae2064675d97582078e6c769\n",
            "Successfully built wget\n",
            "Installing collected packages: wget\n",
            "Successfully installed wget-3.2\n"
          ]
        }
      ],
      "source": [
        "!pip install wget"
      ]
    },
    {
      "cell_type": "markdown",
      "metadata": {
        "id": "xu-OTaVhE3_E"
      },
      "source": [
        "Import essential libraries"
      ]
    },
    {
      "cell_type": "code",
      "metadata": {
        "id": "pUWf4M4LGfQz"
      },
      "source": [
        "import wget\n",
        "import pandas as pd\n",
        "import numpy as np\n",
        "import plotly.express as px\n",
        "from pandas import json_normalize\n",
        "from scipy import stats as st\n",
        "from numpy import genfromtxt\n",
        "import matplotlib.pyplot as plt\n",
        "import seaborn as sns\n",
        "from sklearn.decomposition import PCA"
      ],
      "execution_count": 3,
      "outputs": []
    },
    {
      "cell_type": "markdown",
      "source": [],
      "metadata": {
        "id": "PLrxzCeKQwFf"
      }
    },
    {
      "cell_type": "markdown",
      "metadata": {
        "id": "t5IGEKfrFDQg"
      },
      "source": [
        "Read in the Data (.csv files)"
      ]
    },
    {
      "cell_type": "code",
      "source": [
        "!wget -O data_orig_no_header.csv https://www.dropbox.com/scl/fi/u96yq22lrej2rlzavlytz/data_orig_no_header.csv?rlkey=hikqjjw9vlmdyolgl7swcplph&dl=0\n",
        "\n",
        "filename1 = 'data_orig_no_header.csv'\n",
        "real_data = genfromtxt(filename1, delimiter=',')"
      ],
      "metadata": {
        "colab": {
          "base_uri": "https://localhost:8080/"
        },
        "id": "hMrRCf7hl4L1",
        "outputId": "fe021929-7c31-431b-a5e7-8f44afa3a864"
      },
      "execution_count": 38,
      "outputs": [
        {
          "output_type": "stream",
          "name": "stdout",
          "text": [
            "--2023-10-11 19:59:00--  https://www.dropbox.com/scl/fi/u96yq22lrej2rlzavlytz/data_orig_no_header.csv?rlkey=hikqjjw9vlmdyolgl7swcplph\n",
            "Resolving www.dropbox.com (www.dropbox.com)... 162.125.5.18, 2620:100:6018:18::a27d:312\n",
            "Connecting to www.dropbox.com (www.dropbox.com)|162.125.5.18|:443... connected.\n",
            "HTTP request sent, awaiting response... 302 Found\n",
            "Location: https://uc702a474fc835ebe5d4ed0b544e.dl.dropboxusercontent.com/cd/0/inline/CFYAu-wuF-EUjxA-Zf8pqxPOddZ4WSWzyfUtQu_y8NInRx39r3QmZg5dm5g21ymIY_zjU8Qd83n9i5euoi_yL8PZOW-mFLa5e1oDYLe3-ZKe-hPvPKtF1a7SIVVUwLFywiaTjkUPCexTiIoCZ_JUbe_M/file# [following]\n",
            "--2023-10-11 19:59:05--  https://uc702a474fc835ebe5d4ed0b544e.dl.dropboxusercontent.com/cd/0/inline/CFYAu-wuF-EUjxA-Zf8pqxPOddZ4WSWzyfUtQu_y8NInRx39r3QmZg5dm5g21ymIY_zjU8Qd83n9i5euoi_yL8PZOW-mFLa5e1oDYLe3-ZKe-hPvPKtF1a7SIVVUwLFywiaTjkUPCexTiIoCZ_JUbe_M/file\n",
            "Resolving uc702a474fc835ebe5d4ed0b544e.dl.dropboxusercontent.com (uc702a474fc835ebe5d4ed0b544e.dl.dropboxusercontent.com)... 162.125.3.15, 2620:100:601b:15::a27d:80f\n",
            "Connecting to uc702a474fc835ebe5d4ed0b544e.dl.dropboxusercontent.com (uc702a474fc835ebe5d4ed0b544e.dl.dropboxusercontent.com)|162.125.3.15|:443... connected.\n",
            "HTTP request sent, awaiting response... 200 OK\n",
            "Length: 20802 (20K) [text/plain]\n",
            "Saving to: ‘data_orig_no_header.csv’\n",
            "\n",
            "data_orig_no_header 100%[===================>]  20.31K  --.-KB/s    in 0.01s   \n",
            "\n",
            "2023-10-11 19:59:05 (2.07 MB/s) - ‘data_orig_no_header.csv’ saved [20802/20802]\n",
            "\n"
          ]
        }
      ]
    },
    {
      "cell_type": "code",
      "execution_count": 42,
      "metadata": {
        "id": "sIJBm16c-QA9",
        "colab": {
          "base_uri": "https://localhost:8080/",
          "height": 448
        },
        "outputId": "f610240e-4182-4d10-b194-907940151782"
      },
      "outputs": [
        {
          "output_type": "execute_result",
          "data": {
            "text/plain": [
              "<Axes: ylabel='Count'>"
            ]
          },
          "metadata": {},
          "execution_count": 42
        },
        {
          "output_type": "display_data",
          "data": {
            "text/plain": [
              "<Figure size 640x480 with 1 Axes>"
            ],
            "image/png": "[encoded data removed]"
          },
          "metadata": {}
        }
      ],
      "source": [
        "nrows, ncols = real_data.shape\n",
        "np.isnan(real_data).any()\n",
        "#distribution of data points\n",
        "sns.histplot(real_data[:,ncols-1])"
      ]
    },
    {
      "cell_type": "code",
      "execution_count": 43,
      "metadata": {
        "id": "-uzjahAq-QA_",
        "colab": {
          "base_uri": "https://localhost:8080/"
        },
        "outputId": "bef1334f-5cff-43e4-cc46-e80ba719b94e"
      },
      "outputs": [
        {
          "output_type": "stream",
          "name": "stdout",
          "text": [
            "row id : 6\n",
            "row id : 11\n",
            "row id : 12\n",
            "row id : 13\n",
            "row id : 70\n",
            "row id : 71\n",
            "row id : 72\n",
            "row id : 73\n",
            "row id : 74\n",
            "row id : 75\n",
            "10\n"
          ]
        }
      ],
      "source": [
        "#count the number of datapoints more than particular polarization value\n",
        "#check the last column in the data for this check\n",
        "count1 = 0\n",
        "pol_value = 5.0\n",
        "for r in range(nrows):\n",
        "    if real_data[r][ncols-1] >= pol_value:\n",
        "        count1 += 1\n",
        "        print(\"row id : \" + str(r))\n",
        "print(count1)"
      ]
    },
    {
      "cell_type": "code",
      "execution_count": 45,
      "metadata": {
        "id": "mwIE7ern-QA_"
      },
      "outputs": [],
      "source": [
        "#extract the subset of datapoints with polarization value more that \"pol_val\"\n",
        "high_polarization_subset = np.zeros((count1,ncols))\n",
        "c = 0\n",
        "for r in range(nrows):\n",
        "    if real_data[r][ncols-1] >= pol_value:\n",
        "        high_polarization_subset[c] = real_data[r]\n",
        "        c += 1"
      ]
    },
    {
      "cell_type": "code",
      "execution_count": 46,
      "metadata": {
        "id": "kYYGGSe7-QBA",
        "colab": {
          "base_uri": "https://localhost:8080/",
          "height": 448
        },
        "outputId": "ccfbf84a-2c06-4122-bcee-3a5a0c7d14d3"
      },
      "outputs": [
        {
          "output_type": "execute_result",
          "data": {
            "text/plain": [
              "<Axes: ylabel='Count'>"
            ]
          },
          "metadata": {},
          "execution_count": 46
        },
        {
          "output_type": "display_data",
          "data": {
            "text/plain": [
              "<Figure size 640x480 with 1 Axes>"
            ],
            "image/png": "[encoded data removed]"
          },
          "metadata": {}
        }
      ],
      "source": [
        "pca = PCA()\n",
        "transformed_data = pca.fit_transform(high_polarization_subset)\n",
        "sns.histplot(transformed_data[:,8])"
      ]
    },
    {
      "cell_type": "code",
      "execution_count": null,
      "metadata": {
        "id": "ddNpkkgc-QBA"
      },
      "outputs": [],
      "source": []
    },
    {
      "cell_type": "code",
      "execution_count": 47,
      "metadata": {
        "id": "M3QCN6Yx-QBB",
        "colab": {
          "base_uri": "https://localhost:8080/",
          "height": 524
        },
        "outputId": "af1905f1-6c71-49fe-e7cc-619d3b26af39"
      },
      "outputs": [
        {
          "output_type": "execute_result",
          "data": {
            "text/plain": [
              "<seaborn.axisgrid.FacetGrid at 0x7973b5bda830>"
            ]
          },
          "metadata": {},
          "execution_count": 47
        },
        {
          "output_type": "display_data",
          "data": {
            "text/plain": [
              "<Figure size 500x500 with 1 Axes>"
            ],
            "image/png": "[encoded data removed]"
          },
          "metadata": {}
        }
      ],
      "source": [
        "my_kde = st.gaussian_kde(real_data[:,ncols-1])\n",
        "sample = my_kde.resample(100).reshape((100,))\n",
        "sns.displot(sample)"
      ]
    },
    {
      "cell_type": "markdown",
      "metadata": {
        "id": "FrKAQRcU-QBC"
      },
      "source": [
        "Perform sampling for the principal components\n",
        "\n",
        "https://docs.scipy.org/doc/scipy/reference/generated/scipy.stats.gaussian_kde.html"
      ]
    },
    {
      "cell_type": "code",
      "execution_count": null,
      "metadata": {
        "id": "yM7AnUEU-QBE"
      },
      "outputs": [],
      "source": [
        "num_sample = 100\n",
        "nrows1, npc = transformed_data.shape\n",
        "sampled_data = np.zeros((num_sample, npc))\n",
        "\n",
        "#set the gaussian width as desired, or leave it default\n",
        "## subhashis: here I used a very tight bandwidth\n",
        "for pc in range(npc):\n",
        "    kde_obj = st.gaussian_kde(transformed_data[:,pc], bw_method=0.02)\n",
        "    #print(kde_obj.factor)\n",
        "    sampled = kde_obj.resample(num_sample).reshape((num_sample,))\n",
        "    for i in range(num_sample):\n",
        "        sampled_data[i][pc] = sampled[i]\n",
        "#inverse transform\n",
        "sampled_data_original_space = pca.inverse_transform(sampled_data)"
      ]
    },
    {
      "cell_type": "code",
      "execution_count": 54,
      "metadata": {
        "id": "3ML-umRz-QBE",
        "colab": {
          "base_uri": "https://localhost:8080/",
          "height": 578
        },
        "outputId": "26e6e928-7ba9-42d8-8967-e7281ca8ccd6"
      },
      "outputs": [
        {
          "output_type": "execute_result",
          "data": {
            "text/plain": [
              "(array([1., 0., 0., 0., 0., 0., 1., 1., 2., 2., 1., 1., 0., 0., 0., 0., 0.,\n",
              "        0., 0., 1.]),\n",
              " array([-0.60143538, -0.53656834, -0.4717013 , -0.40683426, -0.34196722,\n",
              "        -0.27710018, -0.21223314, -0.1473661 , -0.08249906, -0.01763202,\n",
              "         0.04723502,  0.11210206,  0.1769691 ,  0.24183614,  0.30670318,\n",
              "         0.37157022,  0.43643726,  0.5013043 ,  0.56617134,  0.63103838,\n",
              "         0.69590542]),\n",
              " <BarContainer object of 20 artists>)"
            ]
          },
          "metadata": {},
          "execution_count": 54
        },
        {
          "output_type": "display_data",
          "data": {
            "text/plain": [
              "<Figure size 640x480 with 1 Axes>"
            ],
            "image/png": "[encoded data removed]"
          },
          "metadata": {}
        }
      ],
      "source": [
        "#plot sampled data\n",
        "plt.hist(sampled_data[:,8], bins=20, label='Sampled data', color = \"skyblue\",ec=\"blue\")\n",
        "plt.hist(transformed_data[:,8], alpha = 0.6, bins=20, label='Transformed data', color = \"red\",ec=\"orange\")"
      ]
    },
    {
      "cell_type": "code",
      "source": [],
      "metadata": {
        "id": "PYsoNpzXWoPB"
      },
      "execution_count": null,
      "outputs": []
    }
  ]
}